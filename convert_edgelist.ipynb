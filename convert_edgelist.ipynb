{
  "nbformat": 4,
  "nbformat_minor": 0,
  "metadata": {
    "colab": {
      "name": "convert_edgelist.ipynb",
      "provenance": [],
      "collapsed_sections": []
    },
    "kernelspec": {
      "name": "python3",
      "display_name": "Python 3"
    }
  },
  "cells": [
    {
      "cell_type": "markdown",
      "metadata": {
        "id": "EkQVGd5f_T5V",
        "colab_type": "text"
      },
      "source": [
        "#convert to a edgelist weighted file"
      ]
    },
    {
      "cell_type": "code",
      "metadata": {
        "id": "Jcf2F0Qo_aXB",
        "colab_type": "code",
        "outputId": "0c2763b8-0296-4b5f-8ef4-b0d9b7bc0be3",
        "colab": {
          "base_uri": "https://localhost:8080/",
          "height": 122
        }
      },
      "source": [
        "from google.colab import drive\n",
        "drive.mount('/content/drive')"
      ],
      "execution_count": 0,
      "outputs": [
        {
          "output_type": "stream",
          "text": [
            "Go to this URL in a browser: https://accounts.google.com/o/oauth2/auth?client_id=947318989803-6bn6qk8qdgf4n4g3pfee6491hc0brc4i.apps.googleusercontent.com&redirect_uri=urn%3Aietf%3Awg%3Aoauth%3A2.0%3Aoob&scope=email%20https%3A%2F%2Fwww.googleapis.com%2Fauth%2Fdocs.test%20https%3A%2F%2Fwww.googleapis.com%2Fauth%2Fdrive%20https%3A%2F%2Fwww.googleapis.com%2Fauth%2Fdrive.photos.readonly%20https%3A%2F%2Fwww.googleapis.com%2Fauth%2Fpeopleapi.readonly&response_type=code\n",
            "\n",
            "Enter your authorization code:\n",
            "··········\n",
            "Mounted at /content/drive\n"
          ],
          "name": "stdout"
        }
      ]
    },
    {
      "cell_type": "code",
      "metadata": {
        "id": "yr0PYRNE_n7k",
        "colab_type": "code",
        "colab": {}
      },
      "source": [
        "import os\n",
        "os.chdir('/content/drive/My Drive/DS Grad School/DS8009 Graph Mining/Assign4/')"
      ],
      "execution_count": 0,
      "outputs": []
    },
    {
      "cell_type": "code",
      "metadata": {
        "id": "LhVeDaRa_lqD",
        "colab_type": "code",
        "colab": {}
      },
      "source": [
        "import networkx as nx"
      ],
      "execution_count": 0,
      "outputs": []
    },
    {
      "cell_type": "code",
      "metadata": {
        "id": "3oCCFtLo_qaj",
        "colab_type": "code",
        "colab": {}
      },
      "source": [
        "G = nx.read_gml('hep-th.gml')"
      ],
      "execution_count": 0,
      "outputs": []
    },
    {
      "cell_type": "code",
      "metadata": {
        "id": "fXkTmbvY_2Tz",
        "colab_type": "code",
        "colab": {}
      },
      "source": [
        "nx.write_weighted_edgelist(G,'hep-th_weight.csv',delimiter=',')"
      ],
      "execution_count": 0,
      "outputs": []
    },
    {
      "cell_type": "code",
      "metadata": {
        "id": "XUckmhN7AE0T",
        "colab_type": "code",
        "outputId": "4bbee6c4-67e9-4b0e-bc59-b52bd8887347",
        "colab": {
          "base_uri": "https://localhost:8080/",
          "height": 68
        }
      },
      "source": [
        "ls"
      ],
      "execution_count": 0,
      "outputs": [
        {
          "output_type": "stream",
          "text": [
            "Assignment4_Leo.ipynb   hep-th_weight.csv           practice_prims.ipynb\n",
            "convert_edgelist.ipynb  hep-th_weight-edgefile.csv\n",
            "hep-th.gml              hep-th-weight.gsheet\n"
          ],
          "name": "stdout"
        }
      ]
    },
    {
      "cell_type": "code",
      "metadata": {
        "id": "AxURCc46HwpW",
        "colab_type": "code",
        "colab": {}
      },
      "source": [
        "import pandas as pd"
      ],
      "execution_count": 0,
      "outputs": []
    },
    {
      "cell_type": "code",
      "metadata": {
        "id": "ViPXERToKQp2",
        "colab_type": "code",
        "colab": {}
      },
      "source": [
        "df = pd.read_csv('hep-th_weight.csv', header=None)"
      ],
      "execution_count": 0,
      "outputs": []
    },
    {
      "cell_type": "code",
      "metadata": {
        "id": "7B_mh-1hKXqu",
        "colab_type": "code",
        "outputId": "7034b17b-cbcd-4052-93cb-2cbb83f95b2a",
        "colab": {
          "base_uri": "https://localhost:8080/",
          "height": 204
        }
      },
      "source": [
        "df[0:5]"
      ],
      "execution_count": 0,
      "outputs": [
        {
          "output_type": "execute_result",
          "data": {
            "text/html": [
              "<div>\n",
              "<style scoped>\n",
              "    .dataframe tbody tr th:only-of-type {\n",
              "        vertical-align: middle;\n",
              "    }\n",
              "\n",
              "    .dataframe tbody tr th {\n",
              "        vertical-align: top;\n",
              "    }\n",
              "\n",
              "    .dataframe thead th {\n",
              "        text-align: right;\n",
              "    }\n",
              "</style>\n",
              "<table border=\"1\" class=\"dataframe\">\n",
              "  <thead>\n",
              "    <tr style=\"text-align: right;\">\n",
              "      <th></th>\n",
              "      <th>0</th>\n",
              "      <th>1</th>\n",
              "      <th>2</th>\n",
              "      <th>3</th>\n",
              "      <th>4</th>\n",
              "    </tr>\n",
              "  </thead>\n",
              "  <tbody>\n",
              "    <tr>\n",
              "      <th>0</th>\n",
              "      <td>SARADZHEV</td>\n",
              "      <td>F</td>\n",
              "      <td>DOMBEY</td>\n",
              "      <td>N</td>\n",
              "      <td>1.00</td>\n",
              "    </tr>\n",
              "    <tr>\n",
              "      <th>1</th>\n",
              "      <td>ANDRADE</td>\n",
              "      <td>MAD</td>\n",
              "      <td>CIMA</td>\n",
              "      <td>OMD</td>\n",
              "      <td>2.45</td>\n",
              "    </tr>\n",
              "    <tr>\n",
              "      <th>2</th>\n",
              "      <td>ANDRADE</td>\n",
              "      <td>MAD</td>\n",
              "      <td>PIGUET</td>\n",
              "      <td>O</td>\n",
              "      <td>0.20</td>\n",
              "    </tr>\n",
              "    <tr>\n",
              "      <th>3</th>\n",
              "      <td>ANDRADE</td>\n",
              "      <td>MAD</td>\n",
              "      <td>TOPPAN</td>\n",
              "      <td>F</td>\n",
              "      <td>2.00</td>\n",
              "    </tr>\n",
              "    <tr>\n",
              "      <th>4</th>\n",
              "      <td>ANDRADE</td>\n",
              "      <td>MAD</td>\n",
              "      <td>VANCEA</td>\n",
              "      <td>IV</td>\n",
              "      <td>1.00</td>\n",
              "    </tr>\n",
              "  </tbody>\n",
              "</table>\n",
              "</div>"
            ],
            "text/plain": [
              "           0     1       2     3     4\n",
              "0  SARADZHEV     F  DOMBEY     N  1.00\n",
              "1    ANDRADE   MAD    CIMA   OMD  2.45\n",
              "2    ANDRADE   MAD  PIGUET     O  0.20\n",
              "3    ANDRADE   MAD  TOPPAN     F  2.00\n",
              "4    ANDRADE   MAD  VANCEA    IV  1.00"
            ]
          },
          "metadata": {
            "tags": []
          },
          "execution_count": 20
        }
      ]
    },
    {
      "cell_type": "code",
      "metadata": {
        "id": "doykhoUvKZ-e",
        "colab_type": "code",
        "colab": {}
      },
      "source": [
        "df[0] = df[0].str.cat(df[1],sep=\" \")\n",
        "df[1] = df[2].str.cat(df[3],sep=\" \")\n",
        "df[2] = df[4].astype(float)"
      ],
      "execution_count": 0,
      "outputs": []
    },
    {
      "cell_type": "code",
      "metadata": {
        "id": "8Bn2w4QjLHyG",
        "colab_type": "code",
        "colab": {}
      },
      "source": [
        "del df[3]\n",
        "del df[4]"
      ],
      "execution_count": 0,
      "outputs": []
    },
    {
      "cell_type": "code",
      "metadata": {
        "id": "aqmTQMA0LeXW",
        "colab_type": "code",
        "colab": {}
      },
      "source": [
        "df.to_csv('hep-th_weight-edgefile.csv', index=False, header=False)"
      ],
      "execution_count": 0,
      "outputs": []
    },
    {
      "cell_type": "code",
      "metadata": {
        "id": "h9eDeZ4EMXpx",
        "colab_type": "code",
        "outputId": "1e983e85-7f81-4a48-d8a0-a01655f99534",
        "colab": {
          "base_uri": "https://localhost:8080/",
          "height": 1000
        }
      },
      "source": [
        "df"
      ],
      "execution_count": 0,
      "outputs": [
        {
          "output_type": "execute_result",
          "data": {
            "text/html": [
              "<div>\n",
              "<style scoped>\n",
              "    .dataframe tbody tr th:only-of-type {\n",
              "        vertical-align: middle;\n",
              "    }\n",
              "\n",
              "    .dataframe tbody tr th {\n",
              "        vertical-align: top;\n",
              "    }\n",
              "\n",
              "    .dataframe thead th {\n",
              "        text-align: right;\n",
              "    }\n",
              "</style>\n",
              "<table border=\"1\" class=\"dataframe\">\n",
              "  <thead>\n",
              "    <tr style=\"text-align: right;\">\n",
              "      <th></th>\n",
              "      <th>0</th>\n",
              "      <th>1</th>\n",
              "      <th>2</th>\n",
              "    </tr>\n",
              "  </thead>\n",
              "  <tbody>\n",
              "    <tr>\n",
              "      <th>0</th>\n",
              "      <td>SARADZHEV  F</td>\n",
              "      <td>DOMBEY  N</td>\n",
              "      <td>1.000000</td>\n",
              "    </tr>\n",
              "    <tr>\n",
              "      <th>1</th>\n",
              "      <td>ANDRADE  MAD</td>\n",
              "      <td>CIMA  OMD</td>\n",
              "      <td>2.450000</td>\n",
              "    </tr>\n",
              "    <tr>\n",
              "      <th>2</th>\n",
              "      <td>ANDRADE  MAD</td>\n",
              "      <td>PIGUET  O</td>\n",
              "      <td>0.200000</td>\n",
              "    </tr>\n",
              "    <tr>\n",
              "      <th>3</th>\n",
              "      <td>ANDRADE  MAD</td>\n",
              "      <td>TOPPAN  F</td>\n",
              "      <td>2.000000</td>\n",
              "    </tr>\n",
              "    <tr>\n",
              "      <th>4</th>\n",
              "      <td>ANDRADE  MAD</td>\n",
              "      <td>VANCEA  IV</td>\n",
              "      <td>1.000000</td>\n",
              "    </tr>\n",
              "    <tr>\n",
              "      <th>5</th>\n",
              "      <td>ANDRADE  MAD</td>\n",
              "      <td>COLATTO  LP</td>\n",
              "      <td>1.450000</td>\n",
              "    </tr>\n",
              "    <tr>\n",
              "      <th>6</th>\n",
              "      <td>ANDRADE  MAD</td>\n",
              "      <td>HELAYELNETO  JA</td>\n",
              "      <td>0.950000</td>\n",
              "    </tr>\n",
              "    <tr>\n",
              "      <th>7</th>\n",
              "      <td>ANDRADE  MAD</td>\n",
              "      <td>BOLDO  JL</td>\n",
              "      <td>0.250000</td>\n",
              "    </tr>\n",
              "    <tr>\n",
              "      <th>8</th>\n",
              "      <td>ANDRADE  MAD</td>\n",
              "      <td>FRANCO  DHT</td>\n",
              "      <td>0.200000</td>\n",
              "    </tr>\n",
              "    <tr>\n",
              "      <th>9</th>\n",
              "      <td>ANDRADE  MAD</td>\n",
              "      <td>ROJAS  M</td>\n",
              "      <td>0.500000</td>\n",
              "    </tr>\n",
              "    <tr>\n",
              "      <th>10</th>\n",
              "      <td>CIMA  OMD</td>\n",
              "      <td>PIGUET  O</td>\n",
              "      <td>2.366670</td>\n",
              "    </tr>\n",
              "    <tr>\n",
              "      <th>11</th>\n",
              "      <td>CIMA  OMD</td>\n",
              "      <td>LANDSTEINER  K</td>\n",
              "      <td>0.500000</td>\n",
              "    </tr>\n",
              "    <tr>\n",
              "      <th>12</th>\n",
              "      <td>CIMA  OMD</td>\n",
              "      <td>SCHWEDA  M</td>\n",
              "      <td>1.000000</td>\n",
              "    </tr>\n",
              "    <tr>\n",
              "      <th>13</th>\n",
              "      <td>CIMA  OMD</td>\n",
              "      <td>COLATTO  LP</td>\n",
              "      <td>0.950000</td>\n",
              "    </tr>\n",
              "    <tr>\n",
              "      <th>14</th>\n",
              "      <td>CIMA  OMD</td>\n",
              "      <td>HELAYELNETO  JA</td>\n",
              "      <td>2.616670</td>\n",
              "    </tr>\n",
              "    <tr>\n",
              "      <th>15</th>\n",
              "      <td>CIMA  OMD</td>\n",
              "      <td>BOLDO  JL</td>\n",
              "      <td>0.250000</td>\n",
              "    </tr>\n",
              "    <tr>\n",
              "      <th>16</th>\n",
              "      <td>CIMA  OMD</td>\n",
              "      <td>FRANCO  DHT</td>\n",
              "      <td>2.366670</td>\n",
              "    </tr>\n",
              "    <tr>\n",
              "      <th>17</th>\n",
              "      <td>CIMA  OMD</td>\n",
              "      <td>GRIMSTRUP  JM</td>\n",
              "      <td>0.500000</td>\n",
              "    </tr>\n",
              "    <tr>\n",
              "      <th>18</th>\n",
              "      <td>MARNELIUS  R</td>\n",
              "      <td>QUAADE  U</td>\n",
              "      <td>1.000000</td>\n",
              "    </tr>\n",
              "    <tr>\n",
              "      <th>19</th>\n",
              "      <td>MARNELIUS  R</td>\n",
              "      <td>BATALIN  I</td>\n",
              "      <td>11.000000</td>\n",
              "    </tr>\n",
              "    <tr>\n",
              "      <th>20</th>\n",
              "      <td>MARNELIUS  R</td>\n",
              "      <td>HWANG  S</td>\n",
              "      <td>0.500000</td>\n",
              "    </tr>\n",
              "    <tr>\n",
              "      <th>21</th>\n",
              "      <td>MARNELIUS  R</td>\n",
              "      <td>SALTSIDIS  P</td>\n",
              "      <td>0.500000</td>\n",
              "    </tr>\n",
              "    <tr>\n",
              "      <th>22</th>\n",
              "      <td>MARNELIUS  R</td>\n",
              "      <td>FULOP  G</td>\n",
              "      <td>1.000000</td>\n",
              "    </tr>\n",
              "    <tr>\n",
              "      <th>23</th>\n",
              "      <td>MARNELIUS  R</td>\n",
              "      <td>SOGAMI  IS</td>\n",
              "      <td>1.000000</td>\n",
              "    </tr>\n",
              "    <tr>\n",
              "      <th>24</th>\n",
              "      <td>MARNELIUS  R</td>\n",
              "      <td>SANDSTROM  N</td>\n",
              "      <td>1.000000</td>\n",
              "    </tr>\n",
              "    <tr>\n",
              "      <th>25</th>\n",
              "      <td>ROSGEN  M</td>\n",
              "      <td>VARNHAGEN  R</td>\n",
              "      <td>1.000000</td>\n",
              "    </tr>\n",
              "    <tr>\n",
              "      <th>26</th>\n",
              "      <td>VARNHAGEN  R</td>\n",
              "      <td>POLYCHRONAKOS  AP</td>\n",
              "      <td>0.250000</td>\n",
              "    </tr>\n",
              "    <tr>\n",
              "      <th>27</th>\n",
              "      <td>VARNHAGEN  R</td>\n",
              "      <td>ISAKOV  SB</td>\n",
              "      <td>0.250000</td>\n",
              "    </tr>\n",
              "    <tr>\n",
              "      <th>28</th>\n",
              "      <td>VARNHAGEN  R</td>\n",
              "      <td>MYRHEIM  J</td>\n",
              "      <td>0.250000</td>\n",
              "    </tr>\n",
              "    <tr>\n",
              "      <th>29</th>\n",
              "      <td>VARNHAGEN  R</td>\n",
              "      <td>LEINAAS  JM</td>\n",
              "      <td>0.250000</td>\n",
              "    </tr>\n",
              "    <tr>\n",
              "      <th>...</th>\n",
              "      <td>...</td>\n",
              "      <td>...</td>\n",
              "      <td>...</td>\n",
              "    </tr>\n",
              "    <tr>\n",
              "      <th>15721</th>\n",
              "      <td>PAPADOPOULOS  P</td>\n",
              "      <td>REZANIA  V</td>\n",
              "      <td>0.333333</td>\n",
              "    </tr>\n",
              "    <tr>\n",
              "      <th>15722</th>\n",
              "      <td>CAMPOS  VL</td>\n",
              "      <td>LARSSON  H</td>\n",
              "      <td>0.250000</td>\n",
              "    </tr>\n",
              "    <tr>\n",
              "      <th>15723</th>\n",
              "      <td>BOUKRAA  S</td>\n",
              "      <td>MAILLARD  J</td>\n",
              "      <td>1.000000</td>\n",
              "    </tr>\n",
              "    <tr>\n",
              "      <th>15724</th>\n",
              "      <td>BERGSHOEFF  EA</td>\n",
              "      <td>WIT  TCD</td>\n",
              "      <td>0.250000</td>\n",
              "    </tr>\n",
              "    <tr>\n",
              "      <th>15725</th>\n",
              "      <td>NIEDER  H</td>\n",
              "      <td>POPP  L</td>\n",
              "      <td>0.250000</td>\n",
              "    </tr>\n",
              "    <tr>\n",
              "      <th>15726</th>\n",
              "      <td>CHABAB  M</td>\n",
              "      <td>MARKAZI  R</td>\n",
              "      <td>0.500000</td>\n",
              "    </tr>\n",
              "    <tr>\n",
              "      <th>15727</th>\n",
              "      <td>NESTEROV  AI</td>\n",
              "      <td>SABININ  LV</td>\n",
              "      <td>1.000000</td>\n",
              "    </tr>\n",
              "    <tr>\n",
              "      <th>15728</th>\n",
              "      <td>ZNOJIL  M</td>\n",
              "      <td>ROYCHOUDHURY  R</td>\n",
              "      <td>0.333333</td>\n",
              "    </tr>\n",
              "    <tr>\n",
              "      <th>15729</th>\n",
              "      <td>APFELDORF  KM</td>\n",
              "      <td>ORDONEZ  CR</td>\n",
              "      <td>0.500000</td>\n",
              "    </tr>\n",
              "    <tr>\n",
              "      <th>15730</th>\n",
              "      <td>ROOS  M</td>\n",
              "      <td>HARUNORRASHID  SM</td>\n",
              "      <td>1.000000</td>\n",
              "    </tr>\n",
              "    <tr>\n",
              "      <th>15731</th>\n",
              "      <td>LOU  SL</td>\n",
              "      <td>WU  SH</td>\n",
              "      <td>1.000000</td>\n",
              "    </tr>\n",
              "    <tr>\n",
              "      <th>15732</th>\n",
              "      <td>TSUDA  M</td>\n",
              "      <td>SHIRAFUJI  T</td>\n",
              "      <td>1.000000</td>\n",
              "    </tr>\n",
              "    <tr>\n",
              "      <th>15733</th>\n",
              "      <td>MOREL  A</td>\n",
              "      <td>PETROV  K</td>\n",
              "      <td>0.250000</td>\n",
              "    </tr>\n",
              "    <tr>\n",
              "      <th>15734</th>\n",
              "      <td>GROOTE  S</td>\n",
              "      <td>PIVOVAROV  AA</td>\n",
              "      <td>1.000000</td>\n",
              "    </tr>\n",
              "    <tr>\n",
              "      <th>15735</th>\n",
              "      <td>KHLOPOV  MY</td>\n",
              "      <td>SAKHAROV  AS</td>\n",
              "      <td>0.500000</td>\n",
              "    </tr>\n",
              "    <tr>\n",
              "      <th>15736</th>\n",
              "      <td>MIRALLES  D</td>\n",
              "      <td>PARRA  JM</td>\n",
              "      <td>0.500000</td>\n",
              "    </tr>\n",
              "    <tr>\n",
              "      <th>15737</th>\n",
              "      <td>KYAE  B</td>\n",
              "      <td>LEE  HM</td>\n",
              "      <td>0.500000</td>\n",
              "    </tr>\n",
              "    <tr>\n",
              "      <th>15738</th>\n",
              "      <td>DOWKER  S</td>\n",
              "      <td>GILKEY  P</td>\n",
              "      <td>0.500000</td>\n",
              "    </tr>\n",
              "    <tr>\n",
              "      <th>15739</th>\n",
              "      <td>AKHMETSHIN  A</td>\n",
              "      <td>VOLVOVSKY  Y</td>\n",
              "      <td>1.000000</td>\n",
              "    </tr>\n",
              "    <tr>\n",
              "      <th>15740</th>\n",
              "      <td>KUZMICHEV  VE</td>\n",
              "      <td>KUZMICHEV  VV</td>\n",
              "      <td>2.000000</td>\n",
              "    </tr>\n",
              "    <tr>\n",
              "      <th>15741</th>\n",
              "      <td>BORSANYI  S</td>\n",
              "      <td>SZEP  Z</td>\n",
              "      <td>0.333333</td>\n",
              "    </tr>\n",
              "    <tr>\n",
              "      <th>15742</th>\n",
              "      <td>BICHL  AA</td>\n",
              "      <td>PUTZ  V</td>\n",
              "      <td>0.333333</td>\n",
              "    </tr>\n",
              "    <tr>\n",
              "      <th>15743</th>\n",
              "      <td>HILMOINE  C</td>\n",
              "      <td>NICLASEN  R</td>\n",
              "      <td>1.000000</td>\n",
              "    </tr>\n",
              "    <tr>\n",
              "      <th>15744</th>\n",
              "      <td>BERGERHOFF  B</td>\n",
              "      <td>REINGRUBER  J</td>\n",
              "      <td>1.000000</td>\n",
              "    </tr>\n",
              "    <tr>\n",
              "      <th>15745</th>\n",
              "      <td>EIDEMULLER  M</td>\n",
              "      <td>JAMIN  M</td>\n",
              "      <td>0.333333</td>\n",
              "    </tr>\n",
              "    <tr>\n",
              "      <th>15746</th>\n",
              "      <td>BRONIOWSKI  W</td>\n",
              "      <td>FLORKOWSKI  W</td>\n",
              "      <td>1.000000</td>\n",
              "    </tr>\n",
              "    <tr>\n",
              "      <th>15747</th>\n",
              "      <td>FEI  SM</td>\n",
              "      <td>KURASOV  P</td>\n",
              "      <td>0.500000</td>\n",
              "    </tr>\n",
              "    <tr>\n",
              "      <th>15748</th>\n",
              "      <td>STONE  M</td>\n",
              "      <td>PARK  K</td>\n",
              "      <td>0.500000</td>\n",
              "    </tr>\n",
              "    <tr>\n",
              "      <th>15749</th>\n",
              "      <td>STONE  M</td>\n",
              "      <td>GARG  A</td>\n",
              "      <td>0.500000</td>\n",
              "    </tr>\n",
              "    <tr>\n",
              "      <th>15750</th>\n",
              "      <td>PARK  K</td>\n",
              "      <td>GARG  A</td>\n",
              "      <td>0.500000</td>\n",
              "    </tr>\n",
              "  </tbody>\n",
              "</table>\n",
              "<p>15751 rows × 3 columns</p>\n",
              "</div>"
            ],
            "text/plain": [
              "                     0                  1          2\n",
              "0         SARADZHEV  F          DOMBEY  N   1.000000\n",
              "1         ANDRADE  MAD          CIMA  OMD   2.450000\n",
              "2         ANDRADE  MAD          PIGUET  O   0.200000\n",
              "3         ANDRADE  MAD          TOPPAN  F   2.000000\n",
              "4         ANDRADE  MAD         VANCEA  IV   1.000000\n",
              "5         ANDRADE  MAD        COLATTO  LP   1.450000\n",
              "6         ANDRADE  MAD    HELAYELNETO  JA   0.950000\n",
              "7         ANDRADE  MAD          BOLDO  JL   0.250000\n",
              "8         ANDRADE  MAD        FRANCO  DHT   0.200000\n",
              "9         ANDRADE  MAD           ROJAS  M   0.500000\n",
              "10           CIMA  OMD          PIGUET  O   2.366670\n",
              "11           CIMA  OMD     LANDSTEINER  K   0.500000\n",
              "12           CIMA  OMD         SCHWEDA  M   1.000000\n",
              "13           CIMA  OMD        COLATTO  LP   0.950000\n",
              "14           CIMA  OMD    HELAYELNETO  JA   2.616670\n",
              "15           CIMA  OMD          BOLDO  JL   0.250000\n",
              "16           CIMA  OMD        FRANCO  DHT   2.366670\n",
              "17           CIMA  OMD      GRIMSTRUP  JM   0.500000\n",
              "18        MARNELIUS  R          QUAADE  U   1.000000\n",
              "19        MARNELIUS  R         BATALIN  I  11.000000\n",
              "20        MARNELIUS  R           HWANG  S   0.500000\n",
              "21        MARNELIUS  R       SALTSIDIS  P   0.500000\n",
              "22        MARNELIUS  R           FULOP  G   1.000000\n",
              "23        MARNELIUS  R         SOGAMI  IS   1.000000\n",
              "24        MARNELIUS  R       SANDSTROM  N   1.000000\n",
              "25           ROSGEN  M       VARNHAGEN  R   1.000000\n",
              "26        VARNHAGEN  R  POLYCHRONAKOS  AP   0.250000\n",
              "27        VARNHAGEN  R         ISAKOV  SB   0.250000\n",
              "28        VARNHAGEN  R         MYRHEIM  J   0.250000\n",
              "29        VARNHAGEN  R        LEINAAS  JM   0.250000\n",
              "...                ...                ...        ...\n",
              "15721  PAPADOPOULOS  P         REZANIA  V   0.333333\n",
              "15722       CAMPOS  VL         LARSSON  H   0.250000\n",
              "15723       BOUKRAA  S        MAILLARD  J   1.000000\n",
              "15724   BERGSHOEFF  EA           WIT  TCD   0.250000\n",
              "15725        NIEDER  H            POPP  L   0.250000\n",
              "15726        CHABAB  M         MARKAZI  R   0.500000\n",
              "15727     NESTEROV  AI        SABININ  LV   1.000000\n",
              "15728        ZNOJIL  M    ROYCHOUDHURY  R   0.333333\n",
              "15729    APFELDORF  KM        ORDONEZ  CR   0.500000\n",
              "15730          ROOS  M  HARUNORRASHID  SM   1.000000\n",
              "15731          LOU  SL             WU  SH   1.000000\n",
              "15732         TSUDA  M       SHIRAFUJI  T   1.000000\n",
              "15733         MOREL  A          PETROV  K   0.250000\n",
              "15734        GROOTE  S      PIVOVAROV  AA   1.000000\n",
              "15735      KHLOPOV  MY       SAKHAROV  AS   0.500000\n",
              "15736      MIRALLES  D          PARRA  JM   0.500000\n",
              "15737          KYAE  B            LEE  HM   0.500000\n",
              "15738        DOWKER  S          GILKEY  P   0.500000\n",
              "15739    AKHMETSHIN  A       VOLVOVSKY  Y   1.000000\n",
              "15740    KUZMICHEV  VE      KUZMICHEV  VV   2.000000\n",
              "15741      BORSANYI  S            SZEP  Z   0.333333\n",
              "15742        BICHL  AA            PUTZ  V   0.333333\n",
              "15743      HILMOINE  C        NICLASEN  R   1.000000\n",
              "15744    BERGERHOFF  B      REINGRUBER  J   1.000000\n",
              "15745    EIDEMULLER  M           JAMIN  M   0.333333\n",
              "15746    BRONIOWSKI  W      FLORKOWSKI  W   1.000000\n",
              "15747          FEI  SM         KURASOV  P   0.500000\n",
              "15748         STONE  M            PARK  K   0.500000\n",
              "15749         STONE  M            GARG  A   0.500000\n",
              "15750          PARK  K            GARG  A   0.500000\n",
              "\n",
              "[15751 rows x 3 columns]"
            ]
          },
          "metadata": {
            "tags": []
          },
          "execution_count": 23
        }
      ]
    },
    {
      "cell_type": "code",
      "metadata": {
        "id": "QiR-IRDgx-l0",
        "colab_type": "code",
        "colab": {}
      },
      "source": [
        "test = [tuple(x) for x in df.to_records(index=False)]"
      ],
      "execution_count": 0,
      "outputs": []
    },
    {
      "cell_type": "code",
      "metadata": {
        "id": "-qWoYb-xyAgG",
        "colab_type": "code",
        "colab": {}
      },
      "source": [
        "graph_dict = {}\n",
        "\n",
        "for a,b,c in test:\n",
        "  if a in graph_dict:\n",
        "    graph_dict[a].append((c,a,b))\n",
        "  else:\n",
        "    graph_dict[a] = [(c,a,b)]\n",
        "\n",
        "for a,b,c in test:\n",
        "  if b in graph_dict:\n",
        "    graph_dict[b].append((c,b,a))\n",
        "  else:\n",
        "    graph_dict[b] = [(c,a,b)]"
      ],
      "execution_count": 0,
      "outputs": []
    },
    {
      "cell_type": "code",
      "metadata": {
        "id": "tpkJSi42xhTJ",
        "colab_type": "code",
        "outputId": "d6fab9b6-7034-4515-be45-1edbae77b0bd",
        "colab": {
          "base_uri": "https://localhost:8080/",
          "height": 34
        }
      },
      "source": [
        "len(graph_dict.keys())"
      ],
      "execution_count": 0,
      "outputs": [
        {
          "output_type": "execute_result",
          "data": {
            "text/plain": [
              "7610"
            ]
          },
          "metadata": {
            "tags": []
          },
          "execution_count": 17
        }
      ]
    },
    {
      "cell_type": "code",
      "metadata": {
        "id": "s4BM7_saxkUz",
        "colab_type": "code",
        "outputId": "8afa58df-3610-4083-cc5f-ba1c9ae214da",
        "colab": {
          "base_uri": "https://localhost:8080/",
          "height": 102
        }
      },
      "source": [
        "test[0:5]"
      ],
      "execution_count": 0,
      "outputs": [
        {
          "output_type": "execute_result",
          "data": {
            "text/plain": [
              "[('SARADZHEV  F', 'DOMBEY  N', 1.0),\n",
              " ('ANDRADE  MAD', 'CIMA  OMD', 2.45),\n",
              " ('ANDRADE  MAD', 'PIGUET  O', 0.2),\n",
              " ('ANDRADE  MAD', 'TOPPAN  F', 2.0),\n",
              " ('ANDRADE  MAD', 'VANCEA  IV', 1.0)]"
            ]
          },
          "metadata": {
            "tags": []
          },
          "execution_count": 30
        }
      ]
    },
    {
      "cell_type": "code",
      "metadata": {
        "id": "7xsTixW_5EwQ",
        "colab_type": "code",
        "colab": {}
      },
      "source": [
        "test_G = nx.Graph()"
      ],
      "execution_count": 0,
      "outputs": []
    },
    {
      "cell_type": "code",
      "metadata": {
        "id": "3q42BvG85iLB",
        "colab_type": "code",
        "colab": {}
      },
      "source": [
        "test_G.add_weighted_edges_from(test)"
      ],
      "execution_count": 0,
      "outputs": []
    },
    {
      "cell_type": "code",
      "metadata": {
        "id": "IeJtaFHB5-as",
        "colab_type": "code",
        "outputId": "94e93391-8804-496e-b99e-ec396d92f850",
        "colab": {
          "base_uri": "https://localhost:8080/",
          "height": 34
        }
      },
      "source": [
        "nx.is_connected(test_G)"
      ],
      "execution_count": 0,
      "outputs": [
        {
          "output_type": "execute_result",
          "data": {
            "text/plain": [
              "False"
            ]
          },
          "metadata": {
            "tags": []
          },
          "execution_count": 32
        }
      ]
    },
    {
      "cell_type": "code",
      "metadata": {
        "id": "ONmYa7tH6BUQ",
        "colab_type": "code",
        "colab": {}
      },
      "source": [
        "mst  = list(nx.minimum_spanning_edges(test_G,algorithm='prim'))"
      ],
      "execution_count": 0,
      "outputs": []
    },
    {
      "cell_type": "code",
      "metadata": {
        "id": "EPLANeYW6R_3",
        "colab_type": "code",
        "colab": {}
      },
      "source": [
        "mst_dict = {}\n",
        "\n",
        "for a,b,c in mst:\n",
        "  if a in mst_dict:\n",
        "    mst_dict[a].append((c,a,b))\n",
        "  else:\n",
        "    mst_dict[a] = [(c,a,b)]\n",
        "\n",
        "for a,b,c in mst:\n",
        "  if b in mst_dict:\n",
        "    mst_dict[b].append((c,b,a))\n",
        "  else:\n",
        "    mst_dict[b] = [(c,a,b)]"
      ],
      "execution_count": 0,
      "outputs": []
    },
    {
      "cell_type": "code",
      "metadata": {
        "id": "z7XxTE3b6dY2",
        "colab_type": "code",
        "outputId": "ac222405-991e-4745-d5f1-7622c3c82149",
        "colab": {
          "base_uri": "https://localhost:8080/",
          "height": 34
        }
      },
      "source": [
        "len(mst_dict.keys())"
      ],
      "execution_count": 0,
      "outputs": [
        {
          "output_type": "execute_result",
          "data": {
            "text/plain": [
              "7610"
            ]
          },
          "metadata": {
            "tags": []
          },
          "execution_count": 41
        }
      ]
    },
    {
      "cell_type": "code",
      "metadata": {
        "id": "TnBonClC9PiH",
        "colab_type": "code",
        "colab": {}
      },
      "source": [
        ""
      ],
      "execution_count": 0,
      "outputs": []
    }
  ]
}